{
 "cells": [
  {
   "cell_type": "code",
   "execution_count": 1,
   "id": "75be03cf",
   "metadata": {},
   "outputs": [],
   "source": [
    "import numpy as np\n",
    "from PIL import Image, ImageOps\n",
    "from matplotlib import pyplot as plt\n",
    "\n",
    "img_filename = '/Users/sheikhmustafa/Desktop/Lab06/image_lab6.tif'\n",
    "save_filename = '/Users/sheikhmustafa/Desktop/Lab06/image_lab6.tif'\n",
    "\n",
    "img = Image.open(img_filename)\n",
    "\n",
    "\n",
    "imgray = img.convert(mode='L')\n",
    "\n",
    "img_array = np.asarray(imgray)\n",
    "\n",
    "histogram_array = np.bincount(img_array.flatten(), minlength=256)\n",
    "\n",
    "\n",
    "num_pixels = np.sum(histogram_array)\n",
    "histogram_array = histogram_array/num_pixels\n",
    "\n",
    "chistogram_array = np.cumsum(histogram_array)\n",
    "\n",
    "transform_map = np.floor(255 * chistogram_array).astype(np.uint8)\n",
    "\n",
    "img_list = list(img_array.flatten())\n",
    "\n",
    "eq_img_list = [transform_map[p] for p in img_list]\n",
    "\n",
    "eq_img_array = np.reshape(np.asarray(eq_img_list), img_array.shape)\n",
    "\n",
    "\n",
    "eq_img = Image.fromarray(eq_img_array, mode='L')\n",
    "eq_img.save(save_filename)\n",
    "\n",
    "\n",
    "im = Image.open(\"/Users/sheikhmustafa/Desktop/Lab06/image_lab6.tif\")\n",
    "\n",
    "grayimg = ImageOps.grayscale(im)\n",
    "\n",
    "grayimg.show()\n",
    "\n",
    "width,height = grayimg.size\n",
    "Intensity_Histogram = {}\n",
    "\n",
    "\n",
    "for i in range(256):\n",
    "    Intensity_Histogram[i]=0\n",
    "\n",
    "   \n",
    "for x in range(width):\n",
    "   for y in range(height):\n",
    "      xy=(x,y)\n",
    "    \n",
    "      Intensity_Histogram[(grayimg.getpixel(xy))] = Intensity_Histogram[(grayimg.getpixel(xy))] + 1\n",
    "\n",
    "plt.figure()\n",
    "plt.title(\"Grayscale Intensity Histogram\")\n",
    "plt.xlabel(\"Intensity\")\n",
    "plt.ylabel(\"Number of pixels\")\n",
    "plt.xlim([0.0, 255])\n",
    "plt.bar([i for i in range (256)],Intensity_Histogram.values())\n",
    "plt.show()"
   ]
  },
  {
   "cell_type": "code",
   "execution_count": 2,
   "id": "5e6da5fd",
   "metadata": {},
   "outputs": [
    {
     "data": {
      "image/png": "[encoded data removed]",
      "text/plain": [
       "<Figure size 432x288 with 1 Axes>"
      ]
     },
     "metadata": {
      "needs_background": "light"
     },
     "output_type": "display_data"
    }
   ],
   "source": [
    "import numpy as np\n",
    "from PIL import Image, ImageOps\n",
    "from matplotlib import pyplot as plt\n",
    "im = Image.open(\"/Users/sheikhmustafa/Desktop/Lab06/image_lab6.tif\")\n",
    "\n",
    "grayimg = ImageOps.grayscale(im)\n",
    "\n",
    "grayimg.show()\n",
    "\n",
    "width,height = grayimg.size\n",
    "Intensity_Histogram = {}\n",
    "\n",
    "\n",
    "for i in range(256):\n",
    "    Intensity_Histogram[i]=0\n",
    "\n",
    "   \n",
    "for x in range(width):\n",
    "   for y in range(height):\n",
    "      xy=(x,y)\n",
    "    \n",
    "      Intensity_Histogram[(grayimg.getpixel(xy))] = Intensity_Histogram[(grayimg.getpixel(xy))] + 1\n",
    "\n",
    "plt.figure()\n",
    "plt.title(\"Grayscale Intensity Histogram\")\n",
    "plt.xlabel(\"Intensity\")\n",
    "plt.ylabel(\"Number of pixels\")\n",
    "plt.xlim([0.0, 255])\n",
    "plt.bar([i for i in range (256)],Intensity_Histogram.values())\n",
    "plt.show()"
   ]
  },
  {
   "cell_type": "code",
   "execution_count": null,
   "id": "59412483",
   "metadata": {},
   "outputs": [],
   "source": []
  }
 ],
 "metadata": {
  "kernelspec": {
   "display_name": "Python 3",
   "language": "python",
   "name": "python3"
  },
  "language_info": {
   "codemirror_mode": {
    "name": "ipython",
    "version": 3
   },
   "file_extension": ".py",
   "mimetype": "text/x-python",
   "name": "python",
   "nbconvert_exporter": "python",
   "pygments_lexer": "ipython3",
   "version": "3.8.8"
  }
 },
 "nbformat": 4,
 "nbformat_minor": 5
}
